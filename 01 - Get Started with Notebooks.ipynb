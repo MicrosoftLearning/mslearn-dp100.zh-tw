﻿{
  "cells": [
    {
      "cell_type": "markdown",
      "source": [
        "# 開始使用 Azure Machine Learning 中的筆記本\n",
        "\n",
        "Azure Machine Learning 是用於建立及管理機器學習解決方案的雲端式服務。其設計旨在協助資料科學家和機器學習工程師利用其現有的資料處理和模型開發技術及架構，同時將其工作負載擴充至雲端。\n",
        "\n",
        "有許多資料科學和機器學習工作都是在像這樣的筆記本中完成的。筆記本是由「資料格」所組成，某些資料格 (像是本文字中所包含的資料格) 是用於附註、圖形，以及其他通常使用 *Markdown* 撰寫的內容；而其他資料格 (例如位於此內容下方的資料格) 會包含程式碼，可讓您在筆記本內以互動方式執行。\n",
        "\n",
        "## Azure Machine Learning Python SDK\n",
        "\n",
        "基本上，您可以在筆記本中執行任何 Python 程式碼，前提是您已在執行 Python 的環境中安裝必要的 Python 套件。在此案例中，您會在 Azure Machine Learning 計算執行個體上的 *Conda* 環境中執行筆記本。此環境預設會安裝在計算執行個體中，並包含資料科學家經常使用的常見 Python 套件。其也包括 Azure Machine Learning Python SDK，這個 Python 套件可讓您撰寫使用您 Azure Machine Learning 工作區中資源的程式碼。\n",
        "\n",
        "執行下方的資料格以匯入 **azureml-core** 套件，並檢查所安裝 SDK 的版本。"
      ],
      "metadata": {}
    },
    {
      "cell_type": "code",
      "source": [
        "import azureml.core\n",
        "\n",
        "print(\"Ready to use Azure ML\", azureml.core.VERSION)"
      ],
      "outputs": [],
      "execution_count": null,
      "metadata": {
        "gather": {
          "logged": 1649344943458
        }
      }
    },
    {
      "cell_type": "markdown",
      "source": [
        "## 連線到您的工作區\n",
        "\n",
        "所有實驗與相關聯資源都是在 Azure Machine Learning 工作區內加以管理。您可以連線至現有的工作區，或使用 Azure Machine Learning SDK 建立一個新的。\n",
        "\n",
        "在大多數案例中，您應將工作區連線設定資訊儲存在 JSON 設定檔中。這可讓連線變得更簡單，而不需要記住像是您的 Azure 訂用帳戶識別碼等的詳細資料。您可以在您位於 Azure 入口網站中的工作區刀鋒視窗中，或是在 Azure Machine Learning 工作室中的工作區詳細資料窗格中下載 JSON 設定檔，但如果您使用的是工作區內的計算執行個體，則系統已經將設定檔下載至根資料夾。\n",
        "\n",
        "以下程式碼會使用該設定檔來連線到您的工作區。\n",
        "\n",
        "> **注意**：您在筆記本工作階段中首次連線到工作區時，系統可能會提示您透過以下方法登入 Azure：按一下 `https://microsoft.com/devicelogin` 連結、輸入自動產生的代碼，然後登入 Azure。在您成功登入之後，便可以關閉開啟的瀏覽器索引標籤，並返回此筆記本。"
      ],
      "metadata": {}
    },
    {
      "cell_type": "code",
      "source": [
        "from azureml.core import Workspace\n",
        "\n",
        "ws = Workspace.from_config()\n",
        "print(ws.name, \"loaded\")"
      ],
      "outputs": [],
      "execution_count": null,
      "metadata": {
        "gather": {
          "logged": 1649344982702
        }
      }
    },
    {
      "cell_type": "markdown",
      "source": [
        "## 檢視工作區中的 Azure Machine Learning 資源\n",
        "\n",
        "在連線至工作區之後，現在您可以開始使用資源。例如，您可以使用下列程式碼來列舉工作區中的計算資源。"
      ],
      "metadata": {}
    },
    {
      "cell_type": "code",
      "source": [
        "print(\"Compute Resources:\")\n",
        "for compute_name in ws.compute_targets:\n",
        "    compute = ws.compute_targets[compute_name]\n",
        "    print(\"\\t\", compute.name, ':', compute.type)"
      ],
      "outputs": [],
      "execution_count": null,
      "metadata": {
        "gather": {
          "logged": 1649344958183
        }
      }
    },
    {
      "cell_type": "markdown",
      "source": [
        "在您探索完此筆記本之後，您可以儲存自己所做的任何變更，然後加以關閉。"
      ],
      "metadata": {}
    }
  ],
  "metadata": {
    "kernelspec": {
      "name": "python38-azureml",
      "language": "python",
      "display_name": "Python 3.8 - AzureML"
    },
    "language_info": {
      "name": "python",
      "version": "3.8.5",
      "mimetype": "text/x-python",
      "codemirror_mode": {
        "name": "ipython",
        "version": 3
      },
      "pygments_lexer": "ipython3",
      "nbconvert_exporter": "python",
      "file_extension": ".py"
    },
    "kernel_info": {
      "name": "python38-azureml"
    },
    "microsoft": {
      "host": {
        "AzureML": {
          "notebookHasBeenCompleted": true
        }
      }
    },
    "nteract": {
      "version": "nteract-front-end@1.0.0"
    }
  },
  "nbformat": 4,
  "nbformat_minor": 0
}