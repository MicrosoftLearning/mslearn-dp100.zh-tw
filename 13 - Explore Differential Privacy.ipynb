﻿{
  "cells": [
    {
      "cell_type": "markdown",
      "source": [
        "# 探索差異隱私權\n",
        "\n",
        "機器學習專案通常牽涉到反覆處理資料分析，以取得資料見解，並判斷哪些變數最有可能幫助建置預測模型。分析資料通常會涉及彙總和統計函式，以提供變數的統計分佈，以及它們之間的關聯性見解。使用大量資料時，彙總會提供某種層級的抽象概念；但如果資料量較少或重複分析的話，就連彙總結果都可能顯示個別觀察的詳細資料。\n",
        "\n",
        "*差異隱私權* 是一項技術，旨在將「雜訊」新增至資料，以維護個別資料點的隱私。其目標是確保新增足夠雜訊，以為個別值提供隱私，同時確保資料的整體統計組成保持一致，而且彙總會產生與原始未經處理資料搭配使用時的類似統計結果。\n",
        "\n",
        "## 安裝 SmartNoise SDK\n",
        "\n",
        "[*SmartNoise*](https://smartnoise.org/) 是來自 OpenDP 的工具組；這是一項 Microsoft、Harvard 大學和其他參與者之間的聯合專案，其目標是要提供建置組塊，以在資料分析和機器學習專案中使用差異隱私權。\n",
        "\n",
        "> **注意**：SmartNoise 目前處於開發的初期階段。\n",
        "\n",
        "讓我們從安裝 SmartNoise Python SDK 套件著手。在本練習中，您可以忽略任何與 Azure CLI 相容性有關的錯誤。"
      ],
      "metadata": {}
    },
    {
      "cell_type": "code",
      "source": [
        "pip install opendp-smartnoise==0.1.4.2"
      ],
      "outputs": [],
      "execution_count": null,
      "metadata": {
        "scrolled": true,
        "vscode": {
          "languageId": "python"
        },
        "gather": {
          "logged": 1649368281268
        }
      }
    },
    {
      "cell_type": "markdown",
      "source": [
        "## 載入資料\n",
        "\n",
        "現在我們就來看看部分未經處理資料。在此案例中，我們有 10,000 項已接受糖尿病測試患者的記錄集。"
      ],
      "metadata": {}
    },
    {
      "cell_type": "code",
      "source": [
        "import pandas as pd\n",
        "\n",
        "data_path = 'data/diabetes.csv'\n",
        "diabetes = pd.read_csv(data_path)\n",
        "diabetes.describe()"
      ],
      "outputs": [],
      "execution_count": null,
      "metadata": {
        "vscode": {
          "languageId": "python"
        },
        "gather": {
          "logged": 1649368211753
        }
      }
    },
    {
      "cell_type": "markdown",
      "source": [
        "上方程式碼輸出顯示糖尿病資料集中變數的關鍵摘要統計資料。\n",
        "\n",
        "## 執行分析\n",
        "\n",
        "您可以使用 SmartNoise 來建立分析，其中已將雜訊新增至來源資料。如何新增雜訊的基礎數學運算相當複雜，但 SmartNois 會為您處理大多數的細節。不過，有幾個有用的概念需要注意。\n",
        "\n",
        "- **上限和下限**：*壓制 (Clamping)* 是用來設定變數值的上限和下限。這是為了確保 SmartNoise 所產生的雜訊，與未經處理資料的預期分佈一致。\n",
        "- **取樣大小**：若要為部分彙總產生一致的差異隱私權資料，SmartNoise 必須了解要產生的資料樣本大小。\n",
        "- **Epsilon**：簡單來說，*epsilon* 是一項非負數值，可提供新增至資料之雜訊數量的反向量值。較低的 epsilon 會導致資料集具有較高的隱私權層級，而較高的 epsilon 則會產生接近原始資料的資料集。一般來說，您應該使用介於 0 和 1 之間的 epsilon 值。Epsilon 與名為 *delta* 的另一個值相互關聯，這顯示由一項分析所產生的報表可能不是完全私人。\n",
        "\n",
        "在了解這些概念之後，請檢查並執行下列程式碼，該程式碼會建立一項分析，並報告差異隱私權資料的 **Age** 值平均值。也會顯示原始未經處理資料的實際平均值，以供比較。"
      ],
      "metadata": {}
    },
    {
      "cell_type": "code",
      "source": [
        "import opendp.smartnoise.core as sn\n",
        "\n",
        "cols = list(diabetes.columns)\n",
        "age_range = [0.0, 120.0]\n",
        "samples = len(diabetes)\n",
        "\n",
        "with sn.Analysis() as analysis:\n",
        "    # load data\n",
        "    data = sn.Dataset(path=data_path, column_names=cols)\n",
        "    \n",
        "    # Convert Age to float\n",
        "    age_dt = sn.to_float(data['Age'])\n",
        "    \n",
        "    # get mean of age\n",
        "    age_mean = sn.dp_mean(data = age_dt,\n",
        "                          privacy_usage = {'epsilon': .50},\n",
        "                          data_lower = age_range[0],\n",
        "                          data_upper = age_range[1],\n",
        "                          data_rows = samples\n",
        "                         )\n",
        "    \n",
        "analysis.release()\n",
        "\n",
        "# print differentially private estimate of mean age\n",
        "print(\"Private mean age:\",age_mean.value)\n",
        "\n",
        "# print actual mean age\n",
        "print(\"Actual mean age:\",diabetes.Age.mean())"
      ],
      "outputs": [],
      "execution_count": null,
      "metadata": {
        "vscode": {
          "languageId": "python"
        }
      }
    },
    {
      "cell_type": "markdown",
      "source": [
        "## 使用長條圖探索資料分佈\n",
        "\n",
        "在使用長條圖分析資料以檢查變數的分佈時，這種情況十分常見。\n",
        "\n",
        "例如，讓我們看看糖尿病資料集內的實際年齡分佈。"
      ],
      "metadata": {}
    },
    {
      "cell_type": "code",
      "source": [
        "import matplotlib.pyplot as plt\n",
        "import numpy as np\n",
        "%matplotlib inline\n",
        "\n",
        "ages = list(range(0, 130, 10))\n",
        "age = diabetes.Age\n",
        "\n",
        "# Plot a histogram with 10-year bins\n",
        "n_age, bins, patches = plt.hist(age, bins=ages, color='blue', alpha=0.7, rwidth=0.85)\n",
        "plt.grid(axis='y', alpha=0.75)\n",
        "plt.xlabel('Age')\n",
        "plt.ylabel('Frequency')\n",
        "plt.title('True Age Distribution')\n",
        "plt.show()\n",
        "print(n_age.astype(int))"
      ],
      "outputs": [],
      "execution_count": null,
      "metadata": {
        "vscode": {
          "languageId": "python"
        }
      }
    },
    {
      "cell_type": "markdown",
      "source": [
        "現在，讓我們將該分佈與年齡的差異隱私權長條圖相比較。"
      ],
      "metadata": {}
    },
    {
      "cell_type": "code",
      "source": [
        "import matplotlib.pyplot as plt\n",
        "\n",
        "with sn.Analysis() as analysis:\n",
        "    data = sn.Dataset(path = data_path, column_names = cols)\n",
        "\n",
        "    age_histogram = sn.dp_histogram(\n",
        "            sn.to_int(data['Age'], lower=0, upper=120),\n",
        "            edges = ages,\n",
        "            upper = 10000,\n",
        "            null_value = -1,\n",
        "            privacy_usage = {'epsilon': 0.5}\n",
        "        )\n",
        "    \n",
        "analysis.release()\n",
        "\n",
        "plt.ylim([0,7000])\n",
        "width=4\n",
        "agecat_left = [x + width for x in ages]\n",
        "agecat_right = [x + 2*width for x in ages]\n",
        "plt.bar(list(range(0,120,10)), n_age, width=width, color='blue', alpha=0.7, label='True')\n",
        "plt.bar(agecat_left, age_histogram.value, width=width, color='orange', alpha=0.7, label='Private')\n",
        "plt.legend()\n",
        "plt.title('Histogram of Age')\n",
        "plt.xlabel('Age')\n",
        "plt.ylabel('Frequency')\n",
        "plt.show()\n",
        "\n",
        "print(age_histogram.value)"
      ],
      "outputs": [],
      "execution_count": null,
      "metadata": {
        "vscode": {
          "languageId": "python"
        }
      }
    },
    {
      "cell_type": "markdown",
      "source": [
        "該長條圖與分佈非常類似，可確保以差異隱私權資料為基礎的報表，會提供與未經處理資料之報表相同的見解。\n",
        "\n",
        "## 計算共變數\n",
        "\n",
        "分析的另一項常見目標是建立變數之間的關聯性。SmartNoise 提供了差異隱私權 *共變數* 函式，可以幫助達成此一目標。"
      ],
      "metadata": {}
    },
    {
      "cell_type": "code",
      "source": [
        "with sn.Analysis() as analysis:\n",
        "    sn_data = sn.Dataset(path = data_path, column_names = cols)\n",
        "\n",
        "    age_bp_cov_scalar = sn.dp_covariance(\n",
        "                left = sn.to_float(sn_data['Age']),\n",
        "                right = sn.to_float(sn_data['DiastolicBloodPressure']),\n",
        "                privacy_usage = {'epsilon': 1.0},\n",
        "                left_lower = 0.,\n",
        "                left_upper = 120.,\n",
        "                left_rows = 10000,\n",
        "                right_lower = 0.,\n",
        "                right_upper = 150.,\n",
        "                right_rows = 10000)\n",
        "analysis.release()\n",
        "print('Differentially private covariance: {0}'.format(age_bp_cov_scalar.value[0][0]))\n",
        "print('Actual covariance', diabetes.Age.cov(diabetes.DiastolicBloodPressure))"
      ],
      "outputs": [],
      "execution_count": null,
      "metadata": {
        "vscode": {
          "languageId": "python"
        }
      }
    },
    {
      "cell_type": "markdown",
      "source": [
        "在此情況下，**Age** 與 **DisatolicBloodPressure** 之間的共變數是正數，指出年齡較高的患者，通常會有較高的血壓。\n",
        "\n",
        "## 使用 SQL 查詢\n",
        "\n",
        "除了 **Analysis** 功能以外，SmartNoise 還可讓您針對資料來源使用 SQL 查詢，以擷取差異隱私權彙總結果。\n",
        "\n",
        "首先，您需要為資料結構描述內的資料表定義中繼資料。您可以在 yml 檔案中執行此動作，例如 **/metadata** 資料夾中的 **diabetes.yml** 檔案。中繼資料可描述資料表中的欄位，包含資料類型和數值欄位的最大值。"
      ],
      "metadata": {}
    },
    {
      "cell_type": "code",
      "source": [
        "from opendp.smartnoise.metadata import CollectionMetadata\n",
        "\n",
        "meta = CollectionMetadata.from_file('metadata/diabetes.yml')\n",
        "print (meta)"
      ],
      "outputs": [],
      "execution_count": null,
      "metadata": {
        "vscode": {
          "languageId": "python"
        }
      }
    },
    {
      "cell_type": "markdown",
      "source": [
        "在定義中繼資料之後，您可以建立可供查詢的 *readers*。在下列範例中，我們會建立 **PandasReader** 來讀取 Pandas 資料框架的未經處理資料，並建立一個 **PrivateReader**，其可將差異隱私權層新增至 **PandasReader**。"
      ],
      "metadata": {}
    },
    {
      "cell_type": "code",
      "source": [
        "from opendp.smartnoise.sql import PandasReader, PrivateReader\n",
        "\n",
        "reader = PandasReader(diabetes, meta)\n",
        "private_reader = PrivateReader(reader=reader, metadata=meta, epsilon_per_column=0.7)\n",
        "print('Readers ready.')"
      ],
      "outputs": [],
      "execution_count": null,
      "metadata": {
        "scrolled": false,
        "vscode": {
          "languageId": "python"
        }
      }
    },
    {
      "cell_type": "markdown",
      "source": [
        "現在，您可以將傳回彙總結果集的 SQL 查詢提交給私人讀取器。"
      ],
      "metadata": {}
    },
    {
      "cell_type": "code",
      "source": [
        "query = 'SELECT Diabetic, AVG(Age) AS AvgAge FROM diabetes.diabetes GROUP BY Diabetic'\n",
        "\n",
        "result_dp = private_reader.execute(query)\n",
        "print(result_dp)"
      ],
      "outputs": [],
      "execution_count": null,
      "metadata": {
        "vscode": {
          "languageId": "python"
        }
      }
    },
    {
      "cell_type": "markdown",
      "source": [
        "讓我們將結果與未經處理資料的相同彙總進行比較。"
      ],
      "metadata": {}
    },
    {
      "cell_type": "code",
      "source": [
        "result = reader.execute(query)\n",
        "print(result)"
      ],
      "outputs": [],
      "execution_count": null,
      "metadata": {
        "vscode": {
          "languageId": "python"
        }
      }
    },
    {
      "cell_type": "markdown",
      "source": [
        "您可以使用 **epsilon_per_column parameter** 自訂 **PrivateReader** 的行為。\n",
        "\n",
        "我們來試試具有高 epsilon (低隱私權) 值的讀取器，以及另一具有低 epsilon (高隱私權) 值的讀取器。"
      ],
      "metadata": {}
    },
    {
      "cell_type": "code",
      "source": [
        "low_privacy_reader = PrivateReader(reader, meta, 5.0)  # large epsilon, less privacy\n",
        "result = low_privacy_reader.execute(query)\n",
        "print(result)\n",
        "print()\n",
        "\n",
        "high_privacy_reader = PrivateReader(reader, meta, 0.1)  # smaller epsilon, more privacy\n",
        "result = high_privacy_reader.execute(query)\n",
        "print(result)"
      ],
      "outputs": [],
      "execution_count": null,
      "metadata": {
        "vscode": {
          "languageId": "python"
        }
      }
    },
    {
      "cell_type": "markdown",
      "source": [
        "您可以注意到，高 epsilon (低隱私權) 讀取器的結果，較低 epsilon (高隱私權) 讀取器更接近未經處理資料的真實結果。\n",
        "\n",
        "## 深入了解\n",
        "\n",
        "若要深入了解差異隱私權與 SmartNoise，請參閱 [https://smartnoise.org](https://smartnoise.org/)"
      ],
      "metadata": {}
    }
  ],
  "metadata": {
    "kernelspec": {
      "name": "python38-azureml",
      "language": "python",
      "display_name": "Python 3.8 - AzureML"
    },
    "language_info": {
      "name": "python",
      "version": "3.8.5",
      "mimetype": "text/x-python",
      "codemirror_mode": {
        "name": "ipython",
        "version": 3
      },
      "pygments_lexer": "ipython3",
      "nbconvert_exporter": "python",
      "file_extension": ".py"
    },
    "kernel_info": {
      "name": "python38-azureml"
    },
    "nteract": {
      "version": "nteract-front-end@1.0.0"
    }
  },
  "nbformat": 4,
  "nbformat_minor": 0
}